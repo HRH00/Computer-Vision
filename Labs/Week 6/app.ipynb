{
 "cells": [
  {
   "cell_type": "code",
   "execution_count": 11,
   "metadata": {},
   "outputs": [],
   "source": [
    "import cv2 \n",
    "import os\n",
    "\n",
    "database_path = \"../../Labs/Datastore/Face/Harry/\"\n",
    "image_list = []\n",
    "resized_Image_list=[]\n",
    "desired_width = 800\n",
    "image_Num=0\n",
    "# Loop through all files in the directory\n",
    "for filename in os.listdir(database_path):\n",
    "    if filename.endswith('.jpg'):\n",
    "        # Construct the file path\n",
    "        filepath = os.path.join(database_path, filename)\n",
    "        # Read the image\n",
    "        image_list.append(cv2.imread(filepath))\n",
    "      \n",
    "        # Process the image (e.g., perform operations, apply filters, etc.)\n",
    "        img = image_list[image_Num]\n",
    "        # Calculate the aspect ratio\n",
    "        aspect_ratio = img.shape[1] / img.shape[0]\n",
    "        desired_height = int(desired_width / aspect_ratio)\n",
    "\n",
    "        # Resize the image\n",
    "        resized_image = cv2.resize(img, (desired_width, desired_height))\n",
    "        resized_Image_list.append(resized_image)\n",
    "\n",
    "        image_Num+=1\n",
    "\n",
    "\n",
    "        ###end resize\n",
    "\n",
    "\n",
    "camera = cv2.VideoCapture(0,cv2.CAP_DSHOW)\n",
    "camera.set(3,200) # adjust width\n",
    "camera.set(4,200) # adjust height\n",
    "\n",
    "#wait for camera to start \n",
    "while True:\n",
    "    success, frame = camera.read()  \n",
    "    cv2.imshow(\"Video\", frame) # This wll open an independent window\n",
    "\n",
    "    if cv2.waitKey(1) & 0xFF==ord('q'): # quit when 'q' is pressed\n",
    "        cv2.destroyAllWindows()\n",
    "        break\n",
    "    counter+=1\n"
   ]
  },
  {
   "cell_type": "code",
   "execution_count": 31,
   "metadata": {},
   "outputs": [
    {
     "name": "stderr",
     "output_type": "stream",
     "text": [
      "usage: ipykernel_launcher.py [-h] [--face_cascade FACE_CASCADE]\n",
      "                             [--camera CAMERA]\n",
      "ipykernel_launcher.py: error: unrecognized arguments: --ip=127.0.0.1 --stdin=9008 --control=9006 --hb=9005 --Session.signature_scheme=\"hmac-sha256\" --Session.key=b\"ce8c8cca-31f6-43f9-a848-a6f118b81eca\" --shell=9007 --transport=\"tcp\" --iopub=9009\n"
     ]
    },
    {
     "ename": "SystemExit",
     "evalue": "2",
     "output_type": "error",
     "traceback": [
      "An exception has occurred, use %tb to see the full traceback.\n",
      "\u001b[1;31mSystemExit\u001b[0m\u001b[1;31m:\u001b[0m 2\n"
     ]
    }
   ],
   "source": [
    "from __future__ import print_function\n",
    "import cv2 as cv\n",
    "import argparse\n",
    "\n",
    "def detectAndDisplay(frame):\n",
    "    frame_gray = cv.cvtColor(frame, cv.COLOR_BGR2GRAY)\n",
    "    frame_gray = cv.equalizeHist(frame_gray)\n",
    "    #-- Detect faces\n",
    "    faces = face_cascade.detectMultiScale(frame_gray)\n",
    "    for (x,y,w,h) in faces:\n",
    "        center = (x + w//2, y + h//2)\n",
    "        frame = cv.ellipse(frame, center, (w//2, h//2), 0, 0, 360, (255, 0, 255), 4)\n",
    "        faceROI = frame_gray[y:y+h,x:x+w]\n",
    "\n",
    "    cv.imshow('Capture - Face detection', frame)\n",
    "parser = argparse.ArgumentParser(description='Code for Cascade Classifier tutorial.')\n",
    "parser.add_argument('--face_cascade', help='Path to face cascade.', default='frontfacial.xml')\n",
    "parser.add_argument('--camera', help='Camera divide number.', type=int, default=0)\n",
    "args = parser.parse_args(argv[1:])\n",
    "#face_cascade_name = args.face_cascade\n",
    "#\n",
    "#face_cascade = cv.CascadeClassifier()\n",
    "##-- 1. Load the cascades\n",
    "#if not face_cascade.load(cv.samples.findFile(face_cascade_name)):\n",
    "#    print('--(!)Error loading face cascade')\n",
    "#    exit(0)\n",
    "#camera_device = args.camera\n",
    "##-- 2. Read the video stream\n",
    "#cap = cv.VideoCapture(0)\n",
    "#if not cap.isOpened:\n",
    "#    print('--(!)Error opening video capture')\n",
    "#    exit(0)\n",
    "#while True:\n",
    "#    ret, frame = cap.read()\n",
    "#    if frame is None:\n",
    "#        print('--(!) No captured frame -- Break!')\n",
    "#        break\n",
    "#    detectAndDisplay(frame)\n",
    "#    if cv.waitKey(10) == 27:\n",
    "#        break"
   ]
  }
 ],
 "metadata": {
  "kernelspec": {
   "display_name": "Python 3",
   "language": "python",
   "name": "python3"
  },
  "language_info": {
   "codemirror_mode": {
    "name": "ipython",
    "version": 3
   },
   "file_extension": ".py",
   "mimetype": "text/x-python",
   "name": "python",
   "nbconvert_exporter": "python",
   "pygments_lexer": "ipython3",
   "version": "3.11.2"
  },
  "orig_nbformat": 4
 },
 "nbformat": 4,
 "nbformat_minor": 2
}
