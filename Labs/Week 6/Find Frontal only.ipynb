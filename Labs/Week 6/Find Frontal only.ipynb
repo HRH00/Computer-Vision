{
 "cells": [
  {
   "attachments": {},
   "cell_type": "markdown",
   "metadata": {},
   "source": [
    "Run this to filter image with face in"
   ]
  },
  {
   "cell_type": "code",
   "execution_count": 4,
   "metadata": {},
   "outputs": [
    {
     "name": "stdout",
     "output_type": "stream",
     "text": [
      "100 Files Found\n",
      "62 faces found\n",
      "Directory already exists: ../../Labs/Datastore/Face/Maureen/hasFaces/\n",
      "62 Images With faces saved in: ../../Labs/Datastore/Face/Maureen/hasFaces/\n"
     ]
    }
   ],
   "source": [
    "import os\n",
    "import cv2\n",
    "\n",
    "NAME=\"Maureen\"\n",
    "DATABASE_PATH = \"../../Labs/Datastore/Face/\"+NAME+\"/\"\n",
    "\n",
    "def getFiles():\n",
    "    image_Num = 0\n",
    "    image_list = []\n",
    "    \n",
    "    # Loop through all files in the directory\n",
    "    for filename in os.listdir(DATABASE_PATH):\n",
    "        #print(image_Num + 1, \"Files Found\")\n",
    "        \n",
    "        if filename.endswith('.jpg'):\n",
    "            # Construct the file path\n",
    "            filepath = os.path.join(DATABASE_PATH, filename)\n",
    "            # Read the image\n",
    "            img = cv2.imread(filepath)\n",
    "            ##Filtering for better recognition\n",
    "            high_contrast = cv2.convertScaleAbs(img, alpha=1, beta=-40)\n",
    "            \n",
    "\n",
    "            image_list.append(img)\n",
    "            #resized_Image_list.append(high_contrast)\n",
    "            \n",
    "\n",
    "            image_Num += 1\n",
    "            \n",
    "    print(image_Num, \"Files Found\")\n",
    "            \n",
    "    \n",
    "    return image_list\n",
    "\n",
    "resized_Image_list = getFiles()\n",
    "\n",
    "cascade_classifier = cv2.CascadeClassifier(cv2.data.haarcascades + 'haarcascade_frontalface_default.xml')\n",
    "\n",
    "import time\n",
    "##count faces found\n",
    "faces_found = 0\n",
    "has_face_list=[]\n",
    "for img in resized_Image_list:\n",
    "    \n",
    "    greyscale = cv2.cvtColor(img, cv2.COLOR_BGR2GRAY)\n",
    "    faces = cascade_classifier.detectMultiScale(greyscale, 1.3, 5)\n",
    "    if (len(faces)==1):\n",
    "        has_face_list.append(img)\n",
    "        faces_found +=1           \n",
    "print(faces_found,\"faces found\")\n",
    "\n",
    "\n",
    "faces_found = 0\n",
    "DATABASE_PATH+=\"hasFaces/\"\n",
    "\n",
    "if not os.path.exists(DATABASE_PATH):\n",
    "    # Create the \"PERSON\" directory\n",
    "    os.makedirs(DATABASE_PATH)\n",
    "    print(\"Created directory:\", DATABASE_PATH)\n",
    "else:\n",
    "    print(\"Directory already exists:\", DATABASE_PATH)\n",
    "\n",
    "for img in has_face_list:\n",
    "    path = DATABASE_PATH + str(faces_found)+ \".jpg\"\n",
    "    cv2.imwrite(path, img)\n",
    "    faces_found+=1\n",
    "print(faces_found,\"Images With faces saved in: \"+DATABASE_PATH)\n",
    "\n"
   ]
  }
 ],
 "metadata": {
  "kernelspec": {
   "display_name": "Python 3",
   "language": "python",
   "name": "python3"
  },
  "language_info": {
   "codemirror_mode": {
    "name": "ipython",
    "version": 3
   },
   "file_extension": ".py",
   "mimetype": "text/x-python",
   "name": "python",
   "nbconvert_exporter": "python",
   "pygments_lexer": "ipython3",
   "version": "3.11.2"
  },
  "orig_nbformat": 4
 },
 "nbformat": 4,
 "nbformat_minor": 2
}
