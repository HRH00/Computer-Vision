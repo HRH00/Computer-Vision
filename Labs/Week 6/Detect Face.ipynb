{
 "cells": [
  {
   "cell_type": "code",
   "execution_count": 1,
   "metadata": {},
   "outputs": [
    {
     "name": "stdout",
     "output_type": "stream",
     "text": [
      "1 Files Found\n",
      "2 Files Found\n",
      "3 Files Found\n",
      "4 Files Found\n",
      "5 Files Found\n",
      "6 Files Found\n",
      "7 Files Found\n",
      "8 Files Found\n",
      "9 Files Found\n",
      "10 Files Found\n",
      "11 Files Found\n",
      "12 Files Found\n",
      "13 Files Found\n",
      "14 Files Found\n",
      "15 Files Found\n",
      "16 Files Found\n",
      "17 Files Found\n",
      "18 Files Found\n",
      "19 Files Found\n",
      "20 Files Found\n",
      "21 Files Found\n",
      "22 Files Found\n",
      "23 Files Found\n",
      "24 Files Found\n",
      "25 Files Found\n",
      "26 Files Found\n",
      "27 Files Found\n",
      "28 Files Found\n",
      "29 Files Found\n",
      "30 Files Found\n",
      "30\n"
     ]
    }
   ],
   "source": [
    "import os\n",
    "import cv2\n",
    "def getFiles():\n",
    "    image_Num=0\n",
    "    image_list = []\n",
    "    resized_Image_list = []\n",
    "    desired_width = 800\n",
    "    \n",
    "    # Loop through all files in the directory\n",
    "    for filename in os.listdir(DATABASE_PATH):\n",
    "        print(image_Num+1,\"Files Found\")\n",
    "        \n",
    "        if filename.endswith('.jpg'):\n",
    "            # Construct the file path\n",
    "            filepath = os.path.join(DATABASE_PATH, filename)\n",
    "            # Read the image\n",
    "            image_list.append(cv2.imread(filepath))\n",
    "        \n",
    "            # Process the image (e.g., perform operations, apply filters, etc.)\n",
    "            img = image_list[image_Num]\n",
    "            # Calculate the aspect ratio\n",
    "            aspect_ratio = img.shape[1] / img.shape[0]\n",
    "            desired_height = int(desired_width / aspect_ratio)\n",
    "\n",
    "            # Resize the image\n",
    "            resized_image = cv2.resize(img, (desired_width, desired_height))\n",
    "            resized_Image_list.append(resized_image)\n",
    "\n",
    "            image_Num+=1\n",
    "    \n",
    "    return resized_Image_list\n",
    "            ###end resize\n",
    "            \n",
    "DATABASE_PATH = \"../../Labs/Datastore/Face/Harry/\"\n",
    "\n",
    "resized_Image_list=getFiles()\n",
    "\n",
    "print(len(resized_Image_list))"
   ]
  },
  {
   "attachments": {},
   "cell_type": "markdown",
   "metadata": {},
   "source": [
    "Display all images"
   ]
  },
  {
   "cell_type": "code",
   "execution_count": 2,
   "metadata": {},
   "outputs": [],
   "source": [
    "def mouse_callback(event, x, y, flags, param):\n",
    "    if event == cv2.EVENT_LBUTTONDOWN:\n",
    "        global counter\n",
    "        counter+=1\n",
    "counter =0 \n",
    "cv2.namedWindow(\"Images\")\n",
    "cv2.setMouseCallback('Images', mouse_callback)\n",
    "\n",
    "while True:\n",
    "    cv2.imshow(\"Images\", resized_Image_list[counter % (len(resized_Image_list))]) # This wll open an independent window\n",
    "    if cv2.waitKey(1) & 0xFF==ord('q'): # quit when 'q' is pressed\n",
    "        cv2.destroyAllWindows()\n",
    "        break\n",
    "    \n",
    "\n",
    "\n",
    "\n"
   ]
  },
  {
   "attachments": {},
   "cell_type": "markdown",
   "metadata": {},
   "source": [
    "Find Faces using HAAR cascade classifier "
   ]
  },
  {
   "attachments": {},
   "cell_type": "markdown",
   "metadata": {},
   "source": [
    "DETECT A FACE"
   ]
  },
  {
   "cell_type": "code",
   "execution_count": 8,
   "metadata": {},
   "outputs": [],
   "source": [
    "import cv2 as cv2\n",
    "\n",
    "camera = cv2.VideoCapture(1,cv2.CAP_DSHOW)\n",
    "cascade_classifier = cv2.CascadeClassifier(cv2.data.haarcascades + 'haarcascade_frontalface_default.xml')\n",
    "\n",
    "while True:\n",
    "    success, frame = camera.read()\n",
    "    \n",
    "    if success:              \n",
    "        greyscale = cv2.cvtColor(frame, cv2.COLOR_BGR2GRAY)\n",
    "        faces = cascade_classifier.detectMultiScale(greyscale, 1.3, 5)            \n",
    "        for (x,y,w,h) in faces:\n",
    "            cv2.rectangle(frame, (x,y), (x+w,y+h), (0,255,0), 2)\n",
    "            cv2.imshow(\"Webcam\", frame) # This will open an independent window\n",
    "            \n",
    "            \n",
    "    if cv2.waitKey(1) & 0xFF==ord('q'): # quit when 'q' is pressed\n",
    "        camera.release()\n",
    "        break\n",
    "    \n",
    "cv2.destroyAllWindows()"
   ]
  }
 ],
 "metadata": {
  "kernelspec": {
   "display_name": "Python 3",
   "language": "python",
   "name": "python3"
  },
  "language_info": {
   "codemirror_mode": {
    "name": "ipython",
    "version": 3
   },
   "file_extension": ".py",
   "mimetype": "text/x-python",
   "name": "python",
   "nbconvert_exporter": "python",
   "pygments_lexer": "ipython3",
   "version": "3.11.2"
  },
  "orig_nbformat": 4
 },
 "nbformat": 4,
 "nbformat_minor": 2
}
