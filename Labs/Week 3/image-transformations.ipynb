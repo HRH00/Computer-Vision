{
 "cells": [
  {
   "attachments": {},
   "cell_type": "markdown",
   "metadata": {},
   "source": [
    "Gaussion Blurs  "
   ]
  },
  {
   "cell_type": "code",
   "execution_count": 4,
   "metadata": {},
   "outputs": [
    {
     "ename": "error",
     "evalue": "OpenCV(4.7.0) :-1: error: (-5:Bad argument) in function 'GaussianBlur'\n> Overload resolution failed:\n>  - dst data type = 17 is not supported\n>  - Expected Ptr<cv::UMat> for argument 'dst'\n",
     "output_type": "error",
     "traceback": [
      "\u001b[1;31m---------------------------------------------------------------------------\u001b[0m",
      "\u001b[1;31merror\u001b[0m                                     Traceback (most recent call last)",
      "Cell \u001b[1;32mIn[4], line 10\u001b[0m\n\u001b[0;32m      6\u001b[0m gaussian_13\u001b[39m=\u001b[39m numpy\u001b[39m.\u001b[39marray(img)\n\u001b[0;32m      7\u001b[0m gaussian_21 \u001b[39m=\u001b[39m numpy\u001b[39m.\u001b[39marray(img)\n\u001b[1;32m---> 10\u001b[0m cv2\u001b[39m.\u001b[39;49mGaussianBlur(img,(\u001b[39m3\u001b[39;49m,\u001b[39m3\u001b[39;49m),\u001b[39m0\u001b[39;49m,gaussian_3)\n\u001b[0;32m     11\u001b[0m cv2\u001b[39m.\u001b[39mGaussianBlur(img,(\u001b[39m5\u001b[39m,\u001b[39m5\u001b[39m),\u001b[39m0\u001b[39m,gaussian_5)\n\u001b[0;32m     12\u001b[0m cv2\u001b[39m.\u001b[39mGaussianBlur(img,(\u001b[39m13\u001b[39m,\u001b[39m13\u001b[39m),\u001b[39m0\u001b[39m,gaussian_13)\n",
      "\u001b[1;31merror\u001b[0m: OpenCV(4.7.0) :-1: error: (-5:Bad argument) in function 'GaussianBlur'\n> Overload resolution failed:\n>  - dst data type = 17 is not supported\n>  - Expected Ptr<cv::UMat> for argument 'dst'\n"
     ]
    }
   ],
   "source": [
    "import cv2\n",
    "import numpy\n",
    "img = cv2.imread(\"towerblock.jpg\")\n",
    "gaussian_3 = numpy.array(img)\n",
    "gaussian_5 = numpy.array(img)\n",
    "gaussian_13= numpy.array(img)\n",
    "gaussian_21 = numpy.array(img)\n",
    "\n",
    "\n",
    "cv2.GaussianBlur(img,(3,3),0,gaussian_3)\n",
    "cv2.GaussianBlur(img,(5,5),0,gaussian_5)\n",
    "cv2.GaussianBlur(img,(13,13),0,gaussian_13)\n",
    "cv2.GaussianBlur(img,(21,21),0,gaussian_21)\n",
    "\n",
    "while True:\n",
    "   \n",
    "    # Display the result\n",
    "    cv2.imshow(\"Image\", img)\n",
    "    cv2.imshow(\"gaussian_3\", gaussian_3)\n",
    "    cv2.imshow(\"gaussian_5\", gaussian_5)\n",
    "    cv2.imshow(\"gaussian_13\", gaussian_13)\n",
    "    cv2.imshow(\"gaussian_21\", gaussian_21)\n",
    "    \n",
    "    if cv2.waitKey(1) & 0xFF == ord('q'):  # Quit when 'q' is pressed\n",
    "        cv2.destroyAllWindows()\n",
    "        break"
   ]
  },
  {
   "attachments": {},
   "cell_type": "markdown",
   "metadata": {},
   "source": [
    "gradient filters: Sobel and Laplacian - only works on greyscale images"
   ]
  },
  {
   "cell_type": "code",
   "execution_count": null,
   "metadata": {},
   "outputs": [],
   "source": [
    "import cv2\n",
    "import numpy as np\n",
    "\n",
    "# Load the image\n",
    "img = cv2.imread(\"../../Labs/Datastore/towerblock.jpg\")\n",
    "smoothed_image = cv2.imread(\"../../Labs/Datastore/towerblock.jpg\")\n",
    "sobel_x = cv2.imread(\"../../Labs/Datastore/towerblock.jpg\")\n",
    "sobel_y = cv2.imread(\"../../Labs/Datastore/towerblock.jpg\")\n",
    "laplacian = cv2.imread(\"../../Labs/Datastore/towerblock.jpg\")\n",
    "\n",
    "cv2.GaussianBlur(img,(3,3),0,smoothed_image)\n",
    "greyscale=cv2.cvtColor(smoothed_image,cv2.COLOR_BGR2GRAY)\n",
    "\n",
    "sobel_x = cv2.Sobel(greyscale, cv2.CV_64F, 1, 0, ksize=3)\n",
    "sobel_x = np.abs(sobel_x)\n",
    "sobel_x = cv2.normalize(sobel_x, None, 0, 255, cv2.NORM_MINMAX, dtype=cv2.CV_8U)\n",
    "\n",
    "sobel_y = cv2.Sobel(greyscale, cv2.CV_64F, 0, 1, ksize=3)\n",
    "sobel_y = np.abs(sobel_y)\n",
    "sobel_y = cv2.normalize(sobel_y, None, 0, 255, cv2.NORM_MINMAX, dtype=cv2.CV_8U)\n",
    "\n",
    "#sobel total\n",
    "sobel_t=cv2.addWeighted(sobel_x,0.5,sobel_y,0.5,0)\n",
    "\n",
    "#Laplacian\n",
    "laplacian = cv2.Laplacian(greyscale,cv2.CV_32FC1)\n",
    "abs_laplacian = cv2.convertScaleAbs(laplacian)\n",
    "\n",
    "while True:\n",
    "   \n",
    "    # Display the result\n",
    "    cv2.imshow(\"Image\", img)\n",
    "    cv2.imshow(\"smoothed-Image\",smoothed_image)\n",
    "    cv2.imshow(\"Grey-Image\", greyscale)\n",
    "    cv2.imshow(\"Sobel X\", sobel_x)\n",
    "    cv2.imshow(\"Sobel y\", sobel_y)\n",
    "    cv2.imshow(\"Sobel Total\", sobel_t)\n",
    "    cv2.imshow(\"Laplacian Signed\", laplacian)\n",
    "    cv2.imshow(\"Laplacian unSigned\", abs_laplacian)\n",
    "    \n",
    "    if cv2.waitKey(1) & 0xFF == ord('q'):  # Quit when 'q' is pressed\n",
    "        cv2.destroyAllWindows()\n",
    "        break"
   ]
  },
  {
   "attachments": {},
   "cell_type": "markdown",
   "metadata": {},
   "source": [
    "Image Transformations using trackbars"
   ]
  },
  {
   "cell_type": "code",
   "execution_count": 5,
   "metadata": {},
   "outputs": [],
   "source": [
    "import cv2\n",
    "\n",
    "# Initialize variables\n",
    "rotation_angle = 0\n",
    "scale_factor = 1\n",
    "x_translation = 0\n",
    "y_translation = 0\n",
    "\n",
    "# Callback functions for trackbars\n",
    "def change_angle(value):\n",
    "    global rotation_angle\n",
    "    rotation_angle = value\n",
    "\n",
    "def change_scale(value):\n",
    "    global scale_factor\n",
    "    scale_factor = value / 100\n",
    "\n",
    "def change_x_translation(value):\n",
    "    global x_translation\n",
    "    x_translation = value\n",
    "\n",
    "def change_y_translation(value):\n",
    "    global y_translation\n",
    "    y_translation = value\n",
    "\n",
    "# Load the image\n",
    "img = cv2.imread(\"../../Labs/Datastore/towerblock.jpg\")\n",
    "\n",
    "# Create windows and trackbars\n",
    "cv2.imshow(\"Image\", img)\n",
    "cv2.namedWindow(\"Controls\")\n",
    "cv2.createTrackbar(\"Angle\", \"Controls\", 0, 360, change_angle)\n",
    "cv2.createTrackbar(\"Scale\", \"Controls\", 100, 300, change_scale)\n",
    "cv2.createTrackbar(\"X Translation\", \"Controls\", 0, 50, change_x_translation)\n",
    "cv2.createTrackbar(\"Y Translation\", \"Controls\", 0, 50, change_y_translation)\n",
    "\n",
    "while True:\n",
    "    # Compute the transformation matrix\n",
    "    M = cv2.getRotationMatrix2D((img.shape[1] / 2, img.shape[0] / 2), rotation_angle, scale_factor)\n",
    "    M[0, 2] += x_translation\n",
    "    M[1, 2] += y_translation\n",
    "    \n",
    "    # Apply the transformation\n",
    "    result = cv2.warpAffine(img, M, (img.shape[1], img.shape[0]))\n",
    "    \n",
    "    # Display the result\n",
    "    cv2.imshow(\"Image\", result)\n",
    "    \n",
    "    if cv2.waitKey(1) & 0xFF == ord('q'):  # Quit when 'q' is pressed\n",
    "        cv2.destroyAllWindows()\n",
    "        break"
   ]
  }
 ],
 "metadata": {
  "kernelspec": {
   "display_name": "Python 3",
   "language": "python",
   "name": "python3"
  },
  "language_info": {
   "codemirror_mode": {
    "name": "ipython",
    "version": 3
   },
   "file_extension": ".py",
   "mimetype": "text/x-python",
   "name": "python",
   "nbconvert_exporter": "python",
   "pygments_lexer": "ipython3",
   "version": "3.11.2"
  },
  "orig_nbformat": 4
 },
 "nbformat": 4,
 "nbformat_minor": 2
}
