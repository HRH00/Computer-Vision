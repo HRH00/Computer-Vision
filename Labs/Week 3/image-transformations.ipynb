{
 "cells": [
  {
   "cell_type": "code",
   "execution_count": 6,
   "metadata": {},
   "outputs": [
    {
     "ename": "error",
     "evalue": "OpenCV(4.7.0) D:\\a\\opencv-python\\opencv-python\\opencv\\modules\\imgproc\\src\\deriv.cpp:419: error: (-215:Assertion failed) !_src.empty() in function 'cv::Sobel'\n",
     "output_type": "error",
     "traceback": [
      "\u001b[1;31m---------------------------------------------------------------------------\u001b[0m",
      "\u001b[1;31merror\u001b[0m                                     Traceback (most recent call last)",
      "Cell \u001b[1;32mIn[6], line 12\u001b[0m\n\u001b[0;32m      8\u001b[0m cv2\u001b[39m.\u001b[39mimshow(\u001b[39m\"\u001b[39m\u001b[39mImage\u001b[39m\u001b[39m\"\u001b[39m, img)\n\u001b[0;32m     10\u001b[0m img \u001b[39m=\u001b[39m cv2\u001b[39m.\u001b[39mimread(\u001b[39m\"\u001b[39m\u001b[39mimage.jpg\u001b[39m\u001b[39m\"\u001b[39m, cv2\u001b[39m.\u001b[39mIMREAD_GRAYSCALE)\n\u001b[1;32m---> 12\u001b[0m sobel_x \u001b[39m=\u001b[39m cv2\u001b[39m.\u001b[39;49mSobel(img, cv2\u001b[39m.\u001b[39;49mCV_64F, \u001b[39m1\u001b[39;49m, \u001b[39m0\u001b[39;49m, ksize\u001b[39m=\u001b[39;49m\u001b[39m3\u001b[39;49m)\n\u001b[0;32m     13\u001b[0m sobel_x \u001b[39m=\u001b[39m np\u001b[39m.\u001b[39mabs(sobel_x)\n\u001b[0;32m     14\u001b[0m sobel_x \u001b[39m=\u001b[39m cv2\u001b[39m.\u001b[39mnormalize(sobel_x, \u001b[39mNone\u001b[39;00m, \u001b[39m0\u001b[39m, \u001b[39m255\u001b[39m, cv2\u001b[39m.\u001b[39mNORM_MINMAX, dtype\u001b[39m=\u001b[39mcv2\u001b[39m.\u001b[39mCV_8U)\n",
      "\u001b[1;31merror\u001b[0m: OpenCV(4.7.0) D:\\a\\opencv-python\\opencv-python\\opencv\\modules\\imgproc\\src\\deriv.cpp:419: error: (-215:Assertion failed) !_src.empty() in function 'cv::Sobel'\n"
     ]
    },
    {
     "ename": "",
     "evalue": "",
     "output_type": "error",
     "traceback": [
      "\u001b[1;31mThe Kernel crashed while executing code in the the current cell or a previous cell. Please review the code in the cell(s) to identify a possible cause of the failure. Click <a href='https://aka.ms/vscodeJupyterKernelCrash'>here</a> for more info. View Jupyter <a href='command:jupyter.viewOutput'>log</a> for further details."
     ]
    }
   ],
   "source": [
    "import cv2\n",
    "import numpy as np\n",
    "\n",
    "# Load the image\n",
    "img = cv2.imread(\"towerblock.jpg\")\n",
    "\n",
    "# Create windows and trackbars\n",
    "cv2.imshow(\"Image\", img)\n",
    "\n",
    "img = cv2.imread(\"image.jpg\", cv2.IMREAD_GRAYSCALE)\n",
    "\n",
    "sobel_x = cv2.Sobel(img, cv2.CV_64F, 1, 0, ksize=3)\n",
    "sobel_x = np.abs(sobel_x)\n",
    "sobel_x = cv2.normalize(sobel_x, None, 0, 255, cv2.NORM_MINMAX, dtype=cv2.CV_8U)\n",
    "\n",
    "# Display the Sobel derivative in the gradient X direction\n",
    "\n",
    "\n",
    "\n",
    "\n",
    "while True:\n",
    "   \n",
    "    # Display the result\n",
    "    cv2.imshow(\"Image\", img)\n",
    "    cv2.imshow(\"Sobel X\", sobel_x)\n",
    "    \n",
    "    if cv2.waitKey(1) & 0xFF == ord('q'):  # Quit when 'q' is pressed\n",
    "        cv2.destroyAllWindows()\n",
    "        break"
   ]
  },
  {
   "cell_type": "code",
   "execution_count": 2,
   "metadata": {},
   "outputs": [],
   "source": [
    "import cv2\n",
    "import numpy as np\n",
    "\n",
    "# Initialize variables\n",
    "rotation_angle = 0\n",
    "scale_factor = 1\n",
    "x_translation = 0\n",
    "y_translation = 0\n",
    "\n",
    "# Callback functions for trackbars\n",
    "def change_angle(value):\n",
    "    global rotation_angle\n",
    "    rotation_angle = value\n",
    "\n",
    "def change_scale(value):\n",
    "    global scale_factor\n",
    "    scale_factor = value / 100\n",
    "\n",
    "def change_x_translation(value):\n",
    "    global x_translation\n",
    "    x_translation = value\n",
    "\n",
    "def change_y_translation(value):\n",
    "    global y_translation\n",
    "    y_translation = value\n",
    "\n",
    "# Load the image\n",
    "img = cv2.imread(\"towerblock.jpg\")\n",
    "\n",
    "# Create windows and trackbars\n",
    "cv2.imshow(\"Image\", img)\n",
    "cv2.namedWindow(\"Controls\")\n",
    "cv2.createTrackbar(\"Angle\", \"Controls\", 0, 360, change_angle)\n",
    "cv2.createTrackbar(\"Scale\", \"Controls\", 100, 300, change_scale)\n",
    "cv2.createTrackbar(\"X Translation\", \"Controls\", 0, 50, change_x_translation)\n",
    "cv2.createTrackbar(\"Y Translation\", \"Controls\", 0, 50, change_y_translation)\n",
    "\n",
    "while True:\n",
    "    # Compute the transformation matrix\n",
    "    M = cv2.getRotationMatrix2D((img.shape[1] / 2, img.shape[0] / 2), rotation_angle, scale_factor)\n",
    "    M[0, 2] += x_translation\n",
    "    M[1, 2] += y_translation\n",
    "    \n",
    "    # Apply the transformation\n",
    "    result = cv2.warpAffine(img, M, (img.shape[1], img.shape[0]))\n",
    "    \n",
    "    # Display the result\n",
    "    cv2.imshow(\"Image\", result)\n",
    "    \n",
    "    if cv2.waitKey(1) & 0xFF == ord('q'):  # Quit when 'q' is pressed\n",
    "        cv2.destroyAllWindows()\n",
    "        break"
   ]
  }
 ],
 "metadata": {
  "kernelspec": {
   "display_name": "Python 3",
   "language": "python",
   "name": "python3"
  },
  "language_info": {
   "codemirror_mode": {
    "name": "ipython",
    "version": 3
   },
   "file_extension": ".py",
   "mimetype": "text/x-python",
   "name": "python",
   "nbconvert_exporter": "python",
   "pygments_lexer": "ipython3",
   "version": "3.11.2"
  },
  "orig_nbformat": 4
 },
 "nbformat": 4,
 "nbformat_minor": 2
}
