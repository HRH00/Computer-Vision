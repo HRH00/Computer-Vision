{
 "cells": [
  {
   "attachments": {},
   "cell_type": "markdown",
   "metadata": {},
   "source": [
    "This program draw rectangles and writes text on mouse click"
   ]
  },
  {
   "cell_type": "code",
   "execution_count": 3,
   "metadata": {},
   "outputs": [],
   "source": [
    "import cv2 as cv2\n",
    "import numpy as np\n",
    "\n",
    "frame_width = 1024\n",
    "frame_height = 1024\n",
    "\n",
    "#init matrix\n",
    "black_img = np.zeros((frame_width,frame_height,3), np.uint8) # black array\n",
    "\n",
    "def draw_rect(x,y):\n",
    "    color=(0,255,0)\n",
    "    top_left=(x-20,y-20)\n",
    "    bottom_right=(x+20,y+20)\n",
    "    text = (str(x)+\" | \"+str(y))   \n",
    "    font = cv2.FONT_HERSHEY_PLAIN\n",
    "    font_scale = 1\n",
    "    text_thickness = 2\n",
    "    text_org = (top_left[0]-20, top_left[1] - 6)  # Place the text just above the rectangle\n",
    "       \n",
    "    cv2.rectangle(black_img,top_left,bottom_right,(0,255,0),1)\n",
    "    cv2.putText(black_img, text, text_org, font, font_scale, color, text_thickness)\n",
    "    \n",
    "def mouse_callback(event, x, y, flags, param):\n",
    "    if event == cv2.EVENT_LBUTTONDOWN:\n",
    "        #print(x,y)\n",
    "        draw_rect(x,y)\n",
    "\n",
    "cv2.namedWindow('black_img')\n",
    "cv2.setMouseCallback('black_img', mouse_callback)\n",
    "\n",
    "\n",
    "while True:\n",
    "    cv2.imshow(\"black_img\", black_img) # This will open an independent window\n",
    "    if cv2.waitKey(1) & 0xFF==ord('q'): # quit when 'q' is pressed\n",
    "        cv2.destroyAllWindows()\n",
    "        break"
   ]
  },
  {
   "attachments": {},
   "cell_type": "markdown",
   "metadata": {},
   "source": [
    "Same with an image"
   ]
  },
  {
   "cell_type": "code",
   "execution_count": 6,
   "metadata": {},
   "outputs": [],
   "source": [
    "import cv2 as cv2\n",
    "\n",
    "img = cv2.imread(\"../../Labs/Datastore/image.jpg\")\n",
    "\n",
    "\n",
    "def draw_rect(x,y):\n",
    "    color=(0,255,0)\n",
    "    top_left=(x-20,y-20)\n",
    "    bottom_right=(x+20,y+20)\n",
    "    text = (str(x)+\" | \"+str(y))   \n",
    "    font = cv2.FONT_HERSHEY_PLAIN\n",
    "    font_scale = 1\n",
    "    text_thickness = 2\n",
    "    text_org = (top_left[0]-20, top_left[1] - 6)  # Place the text just above the rectangle\n",
    "       \n",
    "    cv2.rectangle(img,top_left,bottom_right,(0,255,0),1)\n",
    "    cv2.putText(img, text, text_org, font, font_scale, color, text_thickness)\n",
    "    \n",
    "def mouse_callback(event, x, y, flags, param):\n",
    "    if event == cv2.EVENT_LBUTTONDOWN:\n",
    "        #print(x,y)\n",
    "        draw_rect(x,y)\n",
    "\n",
    "cv2.namedWindow('image')\n",
    "cv2.setMouseCallback('image', mouse_callback)\n",
    "\n",
    "\n",
    "while True:\n",
    "    cv2.imshow(\"image\", img) # This will open an independent window\n",
    "    if cv2.waitKey(1) & 0xFF==ord('q'): # quit when 'q' is pressed\n",
    "        cv2.destroyAllWindows()\n",
    "        break"
   ]
  }
 ],
 "metadata": {
  "kernelspec": {
   "display_name": "Python 3",
   "language": "python",
   "name": "python3"
  },
  "language_info": {
   "codemirror_mode": {
    "name": "ipython",
    "version": 3
   },
   "file_extension": ".py",
   "mimetype": "text/x-python",
   "name": "python",
   "nbconvert_exporter": "python",
   "pygments_lexer": "ipython3",
   "version": "3.11.2"
  },
  "orig_nbformat": 4
 },
 "nbformat": 4,
 "nbformat_minor": 2
}
