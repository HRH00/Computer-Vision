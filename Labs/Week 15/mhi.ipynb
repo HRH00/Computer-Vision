{
 "cells": [
  {
   "cell_type": "code",
   "execution_count": 13,
   "metadata": {},
   "outputs": [],
   "source": [
    "import cv2\n",
    "import numpy as np\n",
    "\n",
    "def getMHIFromVideo(video_path):\n",
    "    # Motion history parameters\n",
    "    MHI_DURATION = 1.0\n",
    "    MAX_TIME_DELTA = 0.5\n",
    "    MIN_TIME_DELTA = 0.05\n",
    "\n",
    "    # Create a VideoCapture object to read the video file\n",
    "    cap = cv2.VideoCapture(video_path)\n",
    "\n",
    "    # Get the first frame of the video\n",
    "    ret, frame = cap.read()\n",
    "\n",
    "    # Convert the frame to grayscale\n",
    "    prev_frame = cv2.cvtColor(frame, cv2.COLOR_BGR2GRAY)\n",
    "\n",
    "    # Initialize the motion history image\n",
    "    h, w = prev_frame.shape[:2]\n",
    "    mhi = np.zeros((h, w), np.float32)\n",
    "\n",
    "    while True:\n",
    "        # Read the next frame\n",
    "        ret, frame = cap.read()\n",
    "\n",
    "        if not ret:\n",
    "            break\n",
    "\n",
    "        # Convert the frame to grayscale\n",
    "        curr_frame = cv2.cvtColor(frame, cv2.COLOR_BGR2GRAY)\n",
    "\n",
    "        # Compute the absolute difference between the current and previous frame\n",
    "        frame_diff = cv2.absdiff(curr_frame, prev_frame)\n",
    "\n",
    "        # Apply thresholding to create a binary motion image\n",
    "        _, motion_mask = cv2.threshold(frame_diff, 25, 255, cv2.THRESH_BINARY)\n",
    "\n",
    "        # Update the motion history image\n",
    "        timestamp = cv2.getTickCount() / cv2.getTickFrequency()\n",
    "        cv2.motempl.updateMotionHistory(motion_mask, mhi, timestamp, MHI_DURATION)\n",
    "\n",
    "        # Update the previous frame\n",
    "        prev_frame = curr_frame\n",
    "\n",
    "    # Release the VideoCapture object\n",
    "    cap.release()\n",
    "\n",
    "    # Return the motion history image and duration\n",
    "    return mhi, MHI_DURATION\n",
    "mhi, duration = getMHIFromVideo(\"./../../Coursework/Datastore/Supplied/boxing/person01_boxing_d1_uncomp.avi\")\n",
    "cv2.imshow('Motion History Image', mhi)\n",
    "cv2.waitKey(0)\n",
    "cv2.destroyAllWindows()\n"
   ]
  }
 ],
 "metadata": {
  "kernelspec": {
   "display_name": "Python 3",
   "language": "python",
   "name": "python3"
  },
  "language_info": {
   "codemirror_mode": {
    "name": "ipython",
    "version": 3
   },
   "file_extension": ".py",
   "mimetype": "text/x-python",
   "name": "python",
   "nbconvert_exporter": "python",
   "pygments_lexer": "ipython3",
   "version": "3.11.2"
  },
  "orig_nbformat": 4
 },
 "nbformat": 4,
 "nbformat_minor": 2
}
