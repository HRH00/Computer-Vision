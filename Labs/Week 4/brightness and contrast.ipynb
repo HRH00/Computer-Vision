{
 "cells": [
  {
   "attachments": {},
   "cell_type": "markdown",
   "metadata": {},
   "source": [
    "Brighness and contrast"
   ]
  },
  {
   "cell_type": "code",
   "execution_count": 19,
   "metadata": {},
   "outputs": [],
   "source": [
    "import cv2 as cv2\n",
    "import numpy as np\n",
    "#init matrix\n",
    "img = cv2.imread(\"../../image.jpg\")\n",
    "# Convert the image to grayscale\n",
    "gray_img = cv2.cvtColor(img, cv2.COLOR_BGR2GRAY)\n",
    "\n",
    "# Adjust the brightness using cv2.convertScaleAbs()\n",
    "high_brightness = cv2.convertScaleAbs(img, alpha=1.75, beta=0)\n",
    "low_brightness = cv2.convertScaleAbs(img, alpha=.75, beta=0)\n",
    "high_contrast = cv2.convertScaleAbs(img, alpha=1, beta=50)\n",
    "low_contrast = cv2.convertScaleAbs(img, alpha=1, beta=-50)\n",
    "\n",
    " \n",
    "while True:\n",
    "    cv2.imshow(\"Original Image\", img) # This will open an independent window\n",
    "    cv2.imshow(\"High Contrast\", high_contrast) # This will open an independent window\n",
    "    cv2.imshow(\"Low Contrast\", low_contrast) # This will open an independent window\n",
    "    cv2.imshow(\"High Brightness\", high_brightness) # This will open an independent window\n",
    "    cv2.imshow(\"Low Brightness\", low_brightness) # This will open an independent window\n",
    "    \n",
    "    if cv2.waitKey(1) & 0xFF==ord('q'): # quit when 'q' is pressed\n",
    "        cv2.destroyAllWindows()\n",
    "        break\n",
    "    \n"
   ]
  }
 ],
 "metadata": {
  "kernelspec": {
   "display_name": "Python 3",
   "language": "python",
   "name": "python3"
  },
  "language_info": {
   "codemirror_mode": {
    "name": "ipython",
    "version": 3
   },
   "file_extension": ".py",
   "mimetype": "text/x-python",
   "name": "python",
   "nbconvert_exporter": "python",
   "pygments_lexer": "ipython3",
   "version": "3.11.2"
  },
  "orig_nbformat": 4
 },
 "nbformat": 4,
 "nbformat_minor": 2
}
