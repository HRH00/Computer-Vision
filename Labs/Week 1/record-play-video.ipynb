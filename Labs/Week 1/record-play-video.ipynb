{
 "cells": [
  {
   "cell_type": "code",
   "execution_count": 1,
   "metadata": {},
   "outputs": [],
   "source": [
    "import cv2 as cv2\n",
    "import numpy\n",
    "import matplotlib.pyplot\n",
    "import ipywidgets\n",
    "import threading\n"
   ]
  },
  {
   "attachments": {},
   "cell_type": "markdown",
   "metadata": {},
   "source": [
    "Open image"
   ]
  },
  {
   "cell_type": "code",
   "execution_count": 2,
   "metadata": {},
   "outputs": [
    {
     "name": "stdout",
     "output_type": "stream",
     "text": [
      "Image loaded\n"
     ]
    },
    {
     "data": {
      "image/jpeg": "[encoded data removed]",
      "text/plain": [
       "<IPython.core.display.Image object>"
      ]
     },
     "metadata": {},
     "output_type": "display_data"
    },
    {
     "name": "stdout",
     "output_type": "stream",
     "text": [
      "Image displayed\n"
     ]
    }
   ],
   "source": [
    "from IPython.display import Image\n",
    "try:\n",
    "    x=(Image(filename='../../image.jpg'))\n",
    "except:\n",
    "    print(\"Issue with image\")\n",
    "else:\n",
    "    print(\"Image loaded\")\n",
    "    \n",
    "    \n",
    "try:\n",
    "    display(x)\n",
    "except:\n",
    "    print(\"Error\")\n",
    "else:\n",
    "    print(\"Image displayed\")\n"
   ]
  },
  {
   "cell_type": "code",
   "execution_count": 3,
   "metadata": {},
   "outputs": [],
   "source": [
    "import cv2 as cv2\n",
    "#init matrix\n",
    "img = cv2.imread(\"../../image.jpg\")\n",
    "\n",
    "cv2.imshow(\"Original Image\", img) # This will open an independent window\n",
    "\n",
    "        \n",
    "while True:\n",
    "    if cv2.waitKey(1) & 0xFF==ord('q'): # quit when 'q' is pressed\n",
    "        cv2.destroyAllWindows()\n",
    "        break\n",
    "    \n",
    "    "
   ]
  },
  {
   "attachments": {},
   "cell_type": "markdown",
   "metadata": {},
   "source": [
    "This displays the video in a widow"
   ]
  },
  {
   "cell_type": "code",
   "execution_count": 4,
   "metadata": {},
   "outputs": [
    {
     "data": {
      "text/plain": [
       "-1"
      ]
     },
     "execution_count": 4,
     "metadata": {},
     "output_type": "execute_result"
    }
   ],
   "source": [
    "camera = cv2.VideoCapture(1,cv2.CAP_DSHOW)\n",
    "\n",
    "#camera = cv2.VideoCapture(0)\n",
    "camera.set(3,1000) # adjust width\n",
    "camera.set(4,1000) # adjust height\n",
    "\n",
    "\n",
    "\n",
    "while True:\n",
    "    success, img = camera.read()\n",
    "    cv2.imshow(\"Webcam\", img) # This will open an independent window\n",
    "    if cv2.waitKey(1) & 0xFF==ord('q'): # quit when 'q' is pressed\n",
    "        camera.release()\n",
    "        break\n",
    "        \n",
    "cv2.destroyAllWindows() \n",
    "cv2.waitKey(1) # normally unnecessary, but it fixes a bug on MacOS where the window doesn't close\n"
   ]
  },
  {
   "attachments": {},
   "cell_type": "markdown",
   "metadata": {},
   "source": [
    "Record and save video as mp4"
   ]
  },
  {
   "cell_type": "code",
   "execution_count": 5,
   "metadata": {},
   "outputs": [],
   "source": [
    "import cv2 as cv2\n",
    "\n",
    "camera = cv2.VideoCapture(1,cv2.CAP_DSHOW)\n",
    "\n",
    "#camera = cv2.VideoCapture(0)\n",
    "\n",
    "frame_width = int(camera.get(3))\n",
    "frame_height = int(camera.get(4))\n",
    "camera.set(3,frame_width) # adjust width\n",
    "camera.set(4,frame_height) # adjust height\n",
    "size = (frame_width, frame_height)\n",
    "\n",
    "\n",
    "\n",
    "fourcc = cv2.VideoWriter_fourcc(*'XVID')\n",
    "\n",
    "out = cv2.VideoWriter('opencv-video.mp4',cv2.VideoWriter_fourcc(*'H264'),30, size)\n",
    "\n",
    "\n",
    "while True:\n",
    "    \n",
    "    success, img = camera.read()\n",
    "    if success:\n",
    "        cv2.imshow(\"Webcam\", img) # This will open an independent window\n",
    "        out.write(img)\n",
    "    if cv2.waitKey(1) & 0xFF==ord('q'): # quit when 'q' is pressed\n",
    "        camera.release()\n",
    "        out.release()\n",
    "        break\n",
    "cv2.destroyAllWindows()"
   ]
  },
  {
   "attachments": {},
   "cell_type": "markdown",
   "metadata": {},
   "source": [
    "Play the video"
   ]
  },
  {
   "cell_type": "code",
   "execution_count": 6,
   "metadata": {},
   "outputs": [],
   "source": [
    "FPS=30\n",
    "vid = cv2.VideoCapture('opencv-video.mp4')\n",
    "if (vid.isOpened()== False): \n",
    "    print(\"Not open\")\n",
    "    \n",
    "while(vid.isOpened()):\n",
    "  # Capture each frame\n",
    "    ret, frame = vid.read()\n",
    "    if ret == True:\n",
    "        cv2.imshow('Video Recording',frame)\n",
    "      # Display the resulting frame\n",
    "    if cv2.waitKey(FPS) & 0xFF==ord('q'): # quit when 'q' is pressed\n",
    "        vid.release()\n",
    "        break\n",
    "vid.release()\n",
    "cv2.destroyAllWindows() "
   ]
  }
 ],
 "metadata": {
  "kernelspec": {
   "display_name": "Python 3",
   "language": "python",
   "name": "python3"
  },
  "language_info": {
   "codemirror_mode": {
    "name": "ipython",
    "version": 3
   },
   "file_extension": ".py",
   "mimetype": "text/x-python",
   "name": "python",
   "nbconvert_exporter": "python",
   "pygments_lexer": "ipython3",
   "version": "3.11.2"
  },
  "orig_nbformat": 4
 },
 "nbformat": 4,
 "nbformat_minor": 2
}
