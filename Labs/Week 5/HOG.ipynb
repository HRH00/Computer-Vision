{
 "cells": [
  {
   "attachments": {},
   "cell_type": "markdown",
   "metadata": {},
   "source": [
    "Histogram of Oriented Gradients (HOG)"
   ]
  },
  {
   "cell_type": "code",
   "execution_count": 15,
   "metadata": {},
   "outputs": [
    {
     "name": "stdout",
     "output_type": "stream",
     "text": [
      "(3780,)\n",
      "[0.00964685 0.00056871 0.00268425 ... 0.17288928 0.28266305 0.31416425]\n"
     ]
    }
   ],
   "source": [
    "import cv2 \n",
    "\n",
    "import matplotlib.pyplot as plt\n",
    "\n",
    "img = cv2.imread(\"dog1.jpg\")\n",
    "resized_img = cv2.resize(img, (64, 128))\n",
    "hog = cv2.HOGDescriptor()\n",
    "\n",
    "hog_features = hog.compute(resized_img)\n",
    "\n",
    "print(hog_features.shape)\n",
    "print(hog_features)\n",
    "\n",
    "cv2.imshow(\"resized image\", resized_img) # This wll open an independent window\n",
    "cv2.imshow(\"image\", img) # This wll open an independent window\n",
    "\n",
    "while True:  \n",
    "    if cv2.waitKey(1) & 0xFF==ord('q'): # quit when 'q' is pressed\n",
    "        cv2.destroyAllWindows()\n",
    "        break\n",
    "\n"
   ]
  },
  {
   "attachments": {},
   "cell_type": "markdown",
   "metadata": {},
   "source": [
    "The following progamme shows SIFT feature extraction. The results include:\n",
    "\n",
    "Display keypoints as well as their gradient direction and scale.\n",
    "Match keypoints of two images and display 100 best matches.\n"
   ]
  },
  {
   "cell_type": "code",
   "execution_count": 16,
   "metadata": {},
   "outputs": [],
   "source": [
    "cv2.namedWindow(\"SIFT\")\n",
    "cv2.namedWindow(\"SIFT-Matching\")\n",
    "img1 = cv2.imread(\"dog1.jpg\")\n",
    "img2= cv2.imread(\"dog2.jpg\")\n",
    "\n",
    "cv2.imshow(\"1\", img1) # This wll open an independent window\n",
    "cv2.imshow(\"2\", img2) # This wll open an independent window\n",
    "\n",
    "while True:  \n",
    "    if cv2.waitKey(1) & 0xFF==ord('q'): # quit when 'q' is pressed\n",
    "        cv2.destroyAllWindows()\n",
    "        break\n",
    "\n",
    "\n"
   ]
  }
 ],
 "metadata": {
  "kernelspec": {
   "display_name": "Python 3",
   "language": "python",
   "name": "python3"
  },
  "language_info": {
   "codemirror_mode": {
    "name": "ipython",
    "version": 3
   },
   "file_extension": ".py",
   "mimetype": "text/x-python",
   "name": "python",
   "nbconvert_exporter": "python",
   "pygments_lexer": "ipython3",
   "version": "3.11.2"
  },
  "orig_nbformat": 4
 },
 "nbformat": 4,
 "nbformat_minor": 2
}
