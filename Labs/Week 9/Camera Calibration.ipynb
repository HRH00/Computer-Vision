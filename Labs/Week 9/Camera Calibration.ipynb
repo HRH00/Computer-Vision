{
 "cells": [
  {
   "cell_type": "code",
   "execution_count": 12,
   "metadata": {},
   "outputs": [],
   "source": [
    "import os\n",
    "import numpy as np\n",
    "import cv2\n",
    "\n",
    "\n",
    "CAM_ENUM=1\n",
    "CAM_WIDTH=640\n",
    "CAM_HEIGHT=480\n",
    "SAMPLE_SIZE=30\n",
    "\n",
    "# termination criteria\n",
    "criteria = (cv2.TERM_CRITERIA_EPS + cv2.TERM_CRITERIA_MAX_ITER, 30, 0.001)\n",
    "# prepare object points, like (0,0,0), (1,0,0), (2,0,0) ....,(6,5,0)\n",
    "objp = np.zeros((6*7,3), np.float32)\n",
    "objp[:,:2] = np.mgrid[0:7,0:6].T.reshape(-1,2)\n",
    "# Arrays to store object points and image points from all the images.\\\n",
    "objpoints = [] # 3d point in real world spaceq\n",
    "imgpoints = [] # 2d points in image plane.\n",
    "\n",
    "\n",
    "camera = cv2.VideoCapture(CAM_ENUM, cv2.CAP_DSHOW)\n",
    "\n",
    "camera.set(cv2.CAP_PROP_FRAME_WIDTH, CAM_WIDTH)  # Set the width\n",
    "camera.set(cv2.CAP_PROP_FRAME_HEIGHT, CAM_HEIGHT)  # Set the height\n",
    "\n",
    "while True:\n",
    "    successful, img = camera.read()\n",
    "    if successful:\n",
    "        img = cv2.flip(img,1)\n",
    "\n",
    "        cv2.imshow(\"Webcam\", img) # This will open an independent window\n",
    "            \n",
    "\n",
    "        gray = cv2.cvtColor(img, cv2.COLOR_BGR2GRAY)\n",
    "        # Find the chess board corners\n",
    "        ret, corners = cv2.findChessboardCorners(gray, (6,7),None)\n",
    "        # If found, add object points, image points (after refining them)\n",
    "        if ret == True:           \n",
    "            corners2 = cv2.cornerSubPix(gray,corners, (11,11), (-1,-1), criteria)\n",
    "            \n",
    "           \n",
    "            # Draw and display the corners\n",
    "            cv2.drawChessboardCorners(img, (7,6), corners2, ret)\n",
    "            cv2.imshow('Webcam', img)\n",
    "            objpoints.append(objp)\n",
    "            imgpoints.append(corners2)\n",
    "            \n",
    "\n",
    "\n",
    "    if cv2.waitKey(1) & 0xFF==ord('q'): # quit when 'q' is pressed\n",
    "        cv2.destroyAllWindows()\n",
    "        camera.release()\n",
    "        break\n",
    "\n",
    "tempobjpoints = []\n",
    "tempimgpoints = []\n",
    "index = 0\n",
    "for i in range(SAMPLE_SIZE):\n",
    "    tempobjpoints.append(objpoints[index])\n",
    "    tempimgpoints.append(imgpoints[index])\n",
    "    index += int ((len(objpoints)-1) / SAMPLE_SIZE)\n",
    "    \n",
    "    \n",
    "objpoints = tempobjpoints\n",
    "imgpoints  = tempimgpoints"
   ]
  },
  {
   "attachments": {},
   "cell_type": "markdown",
   "metadata": {},
   "source": [
    "Calibration calculation     "
   ]
  },
  {
   "cell_type": "code",
   "execution_count": 13,
   "metadata": {},
   "outputs": [
    {
     "name": "stdout",
     "output_type": "stream",
     "text": [
      "total error: 4.798880096752648\n"
     ]
    }
   ],
   "source": [
    "img = gray\n",
    "ret, mtx, dist, rvecs, tvecs = cv2.calibrateCamera(objpoints, imgpoints, gray.shape[::-1], None, None)\n",
    "cv2.imshow('Un-calibrated image',img)\n",
    "\n",
    "h, w = img.shape[:2]\n",
    "newcameramtx, roi = cv2.getOptimalNewCameraMatrix(mtx, dist, (w,h), 1, (w,h))\n",
    "# undistort\n",
    "dst = cv2.undistort(img, mtx, dist, None, newcameramtx)\n",
    "# crop the image\n",
    "x, y, w, h = roi\n",
    "dst = dst[y:y+h, x:x+w]\n",
    "\n",
    "cv2.imshow('Calibrated image', dst)\n",
    "\n",
    "\n",
    "while True:\n",
    "    if cv2.waitKey(1) & 0xFF==ord('q'): # quit when 'q' is pressed\n",
    "        cv2.destroyAllWindows()\n",
    "        camera.release()\n",
    "        break\n",
    "    \n",
    "mean_error = 0\n",
    "for i in range(len(objpoints)):\n",
    "    imgpoints2, _ = cv2.projectPoints(objpoints[i], rvecs[i], tvecs[i], mtx, dist)\n",
    "    error = cv2.norm(imgpoints[i], imgpoints2, cv2.NORM_L2)/len(imgpoints2)\n",
    "    mean_error += error\n",
    "print( \"total error: {}\".format(mean_error/len(objpoints)) )\n"
   ]
  },
  {
   "cell_type": "code",
   "execution_count": 14,
   "metadata": {},
   "outputs": [],
   "source": [
    "import os\n",
    "\n",
    "fileNum=0\n",
    "for filename in os.listdir(\"./\"):\n",
    "        if filename.endswith('.npz'):\n",
    "            fileNum+=1\n",
    "fileName= (\"calibration\"+str(fileNum)+\".npz\")\n",
    "\n",
    "\n",
    "\n",
    "np.savez(fileName, mtx=mtx, dist=dist, rvecs=rvecs, tvecs=tvecs,CAM_ENUM = CAM_ENUM,CAM_WIDTH = CAM_WIDTH,CAM_HEIGHT = CAM_HEIGHT)"
   ]
  }
 ],
 "metadata": {
  "kernelspec": {
   "display_name": "Python 3",
   "language": "python",
   "name": "python3"
  },
  "language_info": {
   "codemirror_mode": {
    "name": "ipython",
    "version": 3
   },
   "file_extension": ".py",
   "mimetype": "text/x-python",
   "name": "python",
   "nbconvert_exporter": "python",
   "pygments_lexer": "ipython3",
   "version": "3.11.2"
  },
  "orig_nbformat": 4
 },
 "nbformat": 4,
 "nbformat_minor": 2
}
