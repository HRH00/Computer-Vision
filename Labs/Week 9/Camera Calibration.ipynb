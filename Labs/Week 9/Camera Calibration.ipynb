{
 "cells": [
  {
   "cell_type": "code",
   "execution_count": 14,
   "metadata": {},
   "outputs": [
    {
     "ename": "KeyboardInterrupt",
     "evalue": "",
     "output_type": "error",
     "traceback": [
      "\u001b[1;31m---------------------------------------------------------------------------\u001b[0m",
      "\u001b[1;31mKeyboardInterrupt\u001b[0m                         Traceback (most recent call last)",
      "Cell \u001b[1;32mIn[14], line 40\u001b[0m\n\u001b[0;32m     38\u001b[0m         cv2\u001b[39m.\u001b[39mdrawChessboardCorners(img, (\u001b[39m7\u001b[39m,\u001b[39m6\u001b[39m), corners2, ret)\n\u001b[0;32m     39\u001b[0m         cv2\u001b[39m.\u001b[39mimshow(\u001b[39m'\u001b[39m\u001b[39mimg\u001b[39m\u001b[39m'\u001b[39m, img)\n\u001b[1;32m---> 40\u001b[0m \u001b[39mif\u001b[39;00m cv2\u001b[39m.\u001b[39;49mwaitKey(\u001b[39m1\u001b[39;49m) \u001b[39m&\u001b[39m \u001b[39m0xFF\u001b[39m\u001b[39m==\u001b[39m\u001b[39mord\u001b[39m(\u001b[39m'\u001b[39m\u001b[39mq\u001b[39m\u001b[39m'\u001b[39m): \u001b[39m# quit when 'q' is pressed\u001b[39;00m\n\u001b[0;32m     41\u001b[0m     cv2\u001b[39m.\u001b[39mdestroyAllWindows()\n\u001b[0;32m     42\u001b[0m     camera\u001b[39m.\u001b[39mrelease()\n",
      "\u001b[1;31mKeyboardInterrupt\u001b[0m: "
     ]
    }
   ],
   "source": [
    "import glob\n",
    "import numpy as np\n",
    "import cv2\n",
    "\n",
    "\n",
    "\n",
    "# termination criteria\n",
    "criteria = (cv2.TERM_CRITERIA_EPS + cv2.TERM_CRITERIA_MAX_ITER, 30, 0.001)\n",
    "# prepare object points, like (0,0,0), (1,0,0), (2,0,0) ....,(6,5,0)\n",
    "objp = np.zeros((6*7,3), np.float32)\n",
    "objp[:,:2] = np.mgrid[0:7,0:6].T.reshape(-1,2)\n",
    "# Arrays to store object points and image points from all the images.\\\n",
    "objpoints = [] # 3d point in real world spaceq\n",
    "imgpoints = [] # 2d points in image plane.\n",
    "\n",
    "camera = cv2.VideoCapture(0, cv2.CAP_DSHOW)\n",
    "\n",
    "import time\n",
    "\n",
    "while True:\n",
    "    successful, img = camera.read()\n",
    "    if successful:\n",
    "        img = cv2.flip(img,1)\n",
    "\n",
    "        cv2.imshow(\"Webcam\", img) # This will open an independent window\n",
    "            \n",
    "\n",
    "        gray = cv2.cvtColor(img, cv2.COLOR_BGR2GRAY)\n",
    "        # Find the chess board corners\n",
    "        ret, corners = cv2.findChessboardCorners(gray, (6,7),None)\n",
    "        # If found, add object points, image points (after refining them)\n",
    "        if ret == True:\n",
    "            time.sleep()\n",
    "            objpoints.append(objp)\n",
    "            corners2 = cv2.cornerSubPix(gray,corners, (11,11), (-1,-1), criteria)\n",
    "            imgpoints.append(corners2)\n",
    "            # Draw and display the corners\n",
    "            cv2.drawChessboardCorners(img, (7,6), corners2, ret)\n",
    "            cv2.imshow('img', img)\n",
    "    if cv2.waitKey(1) & 0xFF==ord('q'): # quit when 'q' is pressed\n",
    "        cv2.destroyAllWindows()\n",
    "        camera.release()\n",
    "        break\n",
    "    \n"
   ]
  },
  {
   "attachments": {},
   "cell_type": "markdown",
   "metadata": {},
   "source": [
    "Calibration calculation     "
   ]
  },
  {
   "cell_type": "code",
   "execution_count": null,
   "metadata": {},
   "outputs": [
    {
     "name": "stdout",
     "output_type": "stream",
     "text": [
      "total error: 14.925081755189709\n"
     ]
    }
   ],
   "source": [
    "\n",
    "\n",
    "img = gray\n",
    "ret, mtx, dist, rvecs, tvecs = cv2.calibrateCamera(objpoints, imgpoints, gray.shape[::-1], None, None)\n",
    "cv2.imshow('Un-calibrated image',img)\n",
    "\n",
    "h,  w = img.shape[:2]\n",
    "newcameramtx, roi = cv2.getOptimalNewCameraMatrix(mtx, dist, (w,h), 1, (w,h))\n",
    "# undistort\n",
    "dst = cv2.undistort(img, mtx, dist, None, newcameramtx)\n",
    "# crop the image\n",
    "x, y, w, h = roi\n",
    "dst = dst[y:y+h, x:x+w]\n",
    "\n",
    "cv2.imshow('Calibrated image', dst)\n",
    "\n",
    "\n",
    "while True:\n",
    "    if cv2.waitKey(1) & 0xFF==ord('q'): # quit when 'q' is pressed\n",
    "        cv2.destroyAllWindows()\n",
    "        camera.release()\n",
    "        break\n",
    "    \n",
    "mean_error = 0\n",
    "for i in range(len(objpoints)):\n",
    "    imgpoints2, _ = cv2.projectPoints(objpoints[i], rvecs[i], tvecs[i], mtx, dist)\n",
    "    error = cv2.norm(imgpoints[i], imgpoints2, cv2.NORM_L2)/len(imgpoints2)\n",
    "    mean_error += error\n",
    "print( \"total error: {}\".format(mean_error/len(objpoints)) )\n",
    "\n"
   ]
  },
  {
   "attachments": {},
   "cell_type": "markdown",
   "metadata": {},
   "source": [
    "Pose Estimator  "
   ]
  },
  {
   "cell_type": "code",
   "execution_count": 16,
   "metadata": {},
   "outputs": [
    {
     "ename": "error",
     "evalue": "OpenCV(4.7.0) :-1: error: (-5:Bad argument) in function 'line'\n> Overload resolution failed:\n>  - Can't parse 'pt1'. Sequence item with index 0 has a wrong type\n>  - Can't parse 'pt1'. Sequence item with index 0 has a wrong type\n",
     "output_type": "error",
     "traceback": [
      "\u001b[1;31m---------------------------------------------------------------------------\u001b[0m",
      "\u001b[1;31merror\u001b[0m                                     Traceback (most recent call last)",
      "Cell \u001b[1;32mIn[16], line 27\u001b[0m\n\u001b[0;32m     25\u001b[0m         \u001b[39m# project 3D points to image plane\u001b[39;00m\n\u001b[0;32m     26\u001b[0m         imgpts, jac \u001b[39m=\u001b[39m cv2\u001b[39m.\u001b[39mprojectPoints(axis, rvecs, tvecs, mtx, dist)\n\u001b[1;32m---> 27\u001b[0m         img \u001b[39m=\u001b[39m draw(img,corners2,imgpts)\n\u001b[0;32m     28\u001b[0m         cv2\u001b[39m.\u001b[39mimshow(\u001b[39m'\u001b[39m\u001b[39mimg\u001b[39m\u001b[39m'\u001b[39m,img)\n\u001b[0;32m     30\u001b[0m \u001b[39mif\u001b[39;00m cv2\u001b[39m.\u001b[39mwaitKey(\u001b[39m1\u001b[39m) \u001b[39m&\u001b[39m \u001b[39m0xFF\u001b[39m\u001b[39m==\u001b[39m\u001b[39mord\u001b[39m(\u001b[39m'\u001b[39m\u001b[39mq\u001b[39m\u001b[39m'\u001b[39m): \u001b[39m# quit when 'q' is pressed\u001b[39;00m\n",
      "Cell \u001b[1;32mIn[16], line 3\u001b[0m, in \u001b[0;36mdraw\u001b[1;34m(img, corners, imgpts)\u001b[0m\n\u001b[0;32m      1\u001b[0m \u001b[39mdef\u001b[39;00m \u001b[39mdraw\u001b[39m(img, corners, imgpts):\n\u001b[0;32m      2\u001b[0m     corner \u001b[39m=\u001b[39m \u001b[39mtuple\u001b[39m(corners[\u001b[39m0\u001b[39m]\u001b[39m.\u001b[39mravel())\n\u001b[1;32m----> 3\u001b[0m     img \u001b[39m=\u001b[39m cv2\u001b[39m.\u001b[39;49mline(img, corner, \u001b[39mtuple\u001b[39;49m(imgpts[\u001b[39m0\u001b[39;49m]\u001b[39m.\u001b[39;49mravel()), (\u001b[39m255\u001b[39;49m,\u001b[39m0\u001b[39;49m,\u001b[39m0\u001b[39;49m), \u001b[39m5\u001b[39;49m)\n\u001b[0;32m      4\u001b[0m     img \u001b[39m=\u001b[39m cv2\u001b[39m.\u001b[39mline(img, corner, \u001b[39mtuple\u001b[39m(imgpts[\u001b[39m1\u001b[39m]\u001b[39m.\u001b[39mravel()), (\u001b[39m0\u001b[39m,\u001b[39m255\u001b[39m,\u001b[39m0\u001b[39m), \u001b[39m5\u001b[39m)\n\u001b[0;32m      5\u001b[0m     img \u001b[39m=\u001b[39m cv2\u001b[39m.\u001b[39mline(img, corner, \u001b[39mtuple\u001b[39m(imgpts[\u001b[39m2\u001b[39m]\u001b[39m.\u001b[39mravel()), (\u001b[39m0\u001b[39m,\u001b[39m0\u001b[39m,\u001b[39m255\u001b[39m), \u001b[39m5\u001b[39m)\n",
      "\u001b[1;31merror\u001b[0m: OpenCV(4.7.0) :-1: error: (-5:Bad argument) in function 'line'\n> Overload resolution failed:\n>  - Can't parse 'pt1'. Sequence item with index 0 has a wrong type\n>  - Can't parse 'pt1'. Sequence item with index 0 has a wrong type\n"
     ]
    }
   ],
   "source": [
    "def draw(img, corners, imgpts):\n",
    "    corner = tuple(corners[0].ravel())\n",
    "    img = cv2.line(img, corner, tuple(imgpts[0].ravel()), (255,0,0), 5)\n",
    "    img = cv2.line(img, corner, tuple(imgpts[1].ravel()), (0,255,0), 5)\n",
    "    img = cv2.line(img, corner, tuple(imgpts[2].ravel()), (0,0,255), 5)\n",
    "    return img\n",
    "\n",
    "criteria = (cv2.TERM_CRITERIA_EPS + cv2.TERM_CRITERIA_MAX_ITER, 30, 0.001)\n",
    "objp = np.zeros((6*7,3), np.float32)\n",
    "objp[:,:2] = np.mgrid[0:7,0:6].T.reshape(-1,2)\n",
    "axis = np.float32([[3,0,0], [0,3,0], [0,0,-3]]).reshape(-1,3)\n",
    "\n",
    "camera= cv2.VideoCapture(1)\n",
    "while True:\n",
    "    \n",
    "    success, img = camera.read()\n",
    "    if success:        \n",
    "        img = cv2.flip(img,1)\n",
    "        gray = cv2.cvtColor(img,cv2.COLOR_BGR2GRAY)\n",
    "        ret, corners = cv2.findChessboardCorners(gray, (7,6),None)\n",
    "        if ret == True:\n",
    "            corners2 = cv2.cornerSubPix(gray,corners,(11,11),(-1,-1),criteria)\n",
    "            # Find the rotation and translation vectors.\n",
    "            ret,rvecs, tvecs = cv2.solvePnP(objp, corners2, mtx, dist)\n",
    "            # project 3D points to image plane\n",
    "            imgpts, jac = cv2.projectPoints(axis, rvecs, tvecs, mtx, dist)\n",
    "            img = draw(img,corners2,imgpts)\n",
    "            cv2.imshow('img',img)\n",
    "       \n",
    "    if cv2.waitKey(1) & 0xFF==ord('q'): # quit when 'q' is pressed\n",
    "        camera.release()\n",
    "        out.release()\n",
    "        break\n",
    "cv2.destroyAllWindows()"
   ]
  },
  {
   "attachments": {},
   "cell_type": "markdown",
   "metadata": {},
   "source": [
    "save to disk"
   ]
  },
  {
   "cell_type": "code",
   "execution_count": null,
   "metadata": {},
   "outputs": [
    {
     "name": "stdout",
     "output_type": "stream",
     "text": [
      "<class 'int'>\n"
     ]
    }
   ],
   "source": [
    "import cv2 as cv2\n",
    "\n",
    "camera = cv2.VideoCapture(1,cv2.CAP_DSHOW)\n",
    "\n",
    "#camera = cv2.VideoCapture(0)\n",
    "\n",
    "frame_width = int(camera.get(3))\n",
    "frame_height = int(camera.get(4))\n",
    "camera.set(3,frame_width) # adjust width\n",
    "camera.set(4,frame_height) # adjust height\n",
    "size = (frame_width, frame_height)\n",
    "\n",
    "\n",
    "\n",
    "fourcc = cv2.VideoWriter_fourcc(*'XVID')\n",
    "\n",
    "out = cv2.VideoWriter('opencv-video.mp4',cv2.VideoWriter_fourcc(*'H264'),30, size)\n",
    "\n",
    "\n",
    "while True:\n",
    "    \n",
    "    success, img = camera.read()\n",
    "    if success:\n",
    "        cv2.imshow(\"Webcam\", img) # This will open an independent window\n",
    "        out.write(img)\n",
    "    if cv2.waitKey(1) & 0xFF==ord('q'): # quit when 'q' is pressed\n",
    "        camera.release()\n",
    "        out.release()\n",
    "        break\n",
    "cv2.destroyAllWindows()"
   ]
  },
  {
   "cell_type": "code",
   "execution_count": null,
   "metadata": {},
   "outputs": [
    {
     "name": "stdout",
     "output_type": "stream",
     "text": [
      "Saving\n"
     ]
    }
   ],
   "source": [
    "print(\"Saving\")\n",
    "\n",
    "\n",
    "ret_values = []\n",
    "\n",
    "mtx_values = []\n",
    "dist_values = []\n",
    "rvecs_values = []\n",
    "tvecs_values = []\n",
    "\n",
    "# Rest of the code remains the same\n",
    "\n",
    "for fname in glob.glob('left*.jpg'):\n",
    "    # Rest of the code remains the same\n",
    "\n",
    "    if ret == True:\n",
    "        # Rest of the code remains the same\n",
    "\n",
    "        # Save the variables\n",
    "        ret_values.append(ret)\n",
    "        mtx_values.append(mtx)\n",
    "        dist_values.append(dist)\n",
    "        rvecs_values.append(rvecs)\n",
    "        tvecs_values.append(tvecs)\n",
    "\n",
    "# Save the variables to a .npz file\n",
    "np.savez('calibration.npz', ret=ret_values, mtx=mtx_values, dist=dist_values, rvecs=rvecs_values, tvecs=tvecs_values)\n"
   ]
  }
 ],
 "metadata": {
  "kernelspec": {
   "display_name": "Python 3",
   "language": "python",
   "name": "python3"
  },
  "language_info": {
   "codemirror_mode": {
    "name": "ipython",
    "version": 3
   },
   "file_extension": ".py",
   "mimetype": "text/x-python",
   "name": "python",
   "nbconvert_exporter": "python",
   "pygments_lexer": "ipython3",
   "version": "3.11.2"
  },
  "orig_nbformat": 4
 },
 "nbformat": 4,
 "nbformat_minor": 2
}
